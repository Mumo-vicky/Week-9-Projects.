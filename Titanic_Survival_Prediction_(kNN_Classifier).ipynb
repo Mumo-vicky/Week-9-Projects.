{
  "nbformat": 4,
  "nbformat_minor": 0,
  "metadata": {
    "colab": {
      "name": "Titanic Survival Prediction (kNN Classifier).ipynb",
      "provenance": [],
      "toc_visible": true,
      "authorship_tag": "ABX9TyNB0PjvkptCUai9EUgxUwhD",
      "include_colab_link": true
    },
    "kernelspec": {
      "name": "python3",
      "display_name": "Python 3"
    }
  },
  "cells": [
    {
      "cell_type": "markdown",
      "metadata": {
        "id": "view-in-github",
        "colab_type": "text"
      },
      "source": [
        "<a href=\"https://colab.research.google.com/github/Mumo-vicky/Week-9-Projects./blob/main/Titanic_Survival_Prediction_(kNN_Classifier).ipynb\" target=\"_parent\"><img src=\"https://colab.research.google.com/assets/colab-badge.svg\" alt=\"Open In Colab\"/></a>"
      ]
    },
    {
      "cell_type": "markdown",
      "metadata": {
        "id": "ys30Zhhfd_CJ"
      },
      "source": [
        "# **Introduction**"
      ]
    },
    {
      "cell_type": "markdown",
      "metadata": {
        "id": "hUcAjUiAd-y7"
      },
      "source": [
        "## **Defining The Question**"
      ]
    },
    {
      "cell_type": "markdown",
      "metadata": {
        "id": "n4Jnase39Go4"
      },
      "source": [
        "Create a kNN Classifier model that is capable of classifying survivors and non-survivors in the titanic datset."
      ]
    },
    {
      "cell_type": "markdown",
      "metadata": {
        "id": "NgP7eRTyd-mv"
      },
      "source": [
        "## **Defining Metric For Success**"
      ]
    },
    {
      "cell_type": "markdown",
      "metadata": {
        "id": "JlIbRruWZHzM"
      },
      "source": [
        "The aim is to achieve an accurate model for the prediction of survivors and non-survivors.\n",
        "\n",
        "My model should be able to attain an accuracy of 80% or more"
      ]
    },
    {
      "cell_type": "markdown",
      "metadata": {
        "id": "-IjTuApvd-e9"
      },
      "source": [
        "## **Understanding The Context**"
      ]
    },
    {
      "cell_type": "markdown",
      "metadata": {
        "id": "PtGcw71lZXXP"
      },
      "source": [
        "The titanic dataset has been in usefor a long time. It contains information on the individuals on the titanic at the time of its demise. We should be able to determine influential factors that contributed to one either surviving or not and have a model that could predict whether one would survive based on the factors provided."
      ]
    },
    {
      "cell_type": "markdown",
      "metadata": {
        "id": "GNYfvXwHd-Y0"
      },
      "source": [
        "## **Experimental Design**"
      ]
    },
    {
      "cell_type": "markdown",
      "metadata": {
        "id": "eeZX_fGCqo_F"
      },
      "source": [
        "I am going to go through the following steps in my project.\n",
        "* Importing libraries and loading the data\n",
        "* Checking and cleaning the data.\n",
        "* Performing Exploratory Data Analysis\n",
        "* Data pre-processing\n",
        "* Building the kNN classification model \n",
        "* Evaluating the model\n",
        "* Conclusion.\n",
        "* Follow up Questions"
      ]
    },
    {
      "cell_type": "markdown",
      "metadata": {
        "id": "NWspAul9d-He"
      },
      "source": [
        "## **Data Relevance**"
      ]
    },
    {
      "cell_type": "markdown",
      "metadata": {
        "id": "Hr0INHhlrsE5"
      },
      "source": [
        "We are using the train dataset for our model creation. It is relevant for our research question."
      ]
    },
    {
      "cell_type": "markdown",
      "metadata": {
        "id": "JXjmAEOxmTg_"
      },
      "source": [
        "# **Data Preparation**"
      ]
    },
    {
      "cell_type": "markdown",
      "metadata": {
        "id": "SHy8aMebmWXy"
      },
      "source": [
        "## **Loading The Libraries**"
      ]
    },
    {
      "cell_type": "code",
      "metadata": {
        "id": "SeoH1xsHYdyo"
      },
      "source": [
        "#loading the needed libraries.\n",
        "import pandas as pd\n",
        "import numpy as np\n",
        "import seaborn as sns\n",
        "import matplotlib.pyplot as plt\n",
        "import warnings\n",
        "warnings.filterwarnings(\"ignore\")\n",
        "from sklearn.preprocessing import LabelEncoder, StandardScaler\n",
        "from sklearn.model_selection import train_test_split\n",
        "from sklearn.neighbors import KNeighborsClassifier\n",
        "from sklearn.metrics import classification_report, confusion_matrix, accuracy_score\n",
        "from sklearn.discriminant_analysis import LinearDiscriminantAnalysis as LDA\n",
        "from sklearn.feature_selection import SelectKBest\n",
        "from sklearn.feature_selection import chi2"
      ],
      "execution_count": 1,
      "outputs": []
    },
    {
      "cell_type": "markdown",
      "metadata": {
        "id": "p3rjxbHemZpQ"
      },
      "source": [
        "## **Exploring The Dataset**"
      ]
    },
    {
      "cell_type": "code",
      "metadata": {
        "id": "cxbbn5DGYvVm"
      },
      "source": [
        "#loading te dataset\n",
        "titanic = pd.read_csv('https://archive.org/download/train5_202002/train%20%285%29.csv')"
      ],
      "execution_count": 2,
      "outputs": []
    },
    {
      "cell_type": "code",
      "metadata": {
        "id": "CxI46PcAYzM9",
        "outputId": "de0c324a-87ae-4ff9-c0c3-3b62b03c4139",
        "colab": {
          "base_uri": "https://localhost:8080/",
          "height": 197
        }
      },
      "source": [
        "#checking the first five rows of the dataset\n",
        "titanic.head()"
      ],
      "execution_count": 3,
      "outputs": [
        {
          "output_type": "execute_result",
          "data": {
            "text/html": [
              "<div>\n",
              "<style scoped>\n",
              "    .dataframe tbody tr th:only-of-type {\n",
              "        vertical-align: middle;\n",
              "    }\n",
              "\n",
              "    .dataframe tbody tr th {\n",
              "        vertical-align: top;\n",
              "    }\n",
              "\n",
              "    .dataframe thead th {\n",
              "        text-align: right;\n",
              "    }\n",
              "</style>\n",
              "<table border=\"1\" class=\"dataframe\">\n",
              "  <thead>\n",
              "    <tr style=\"text-align: right;\">\n",
              "      <th></th>\n",
              "      <th>PassengerId</th>\n",
              "      <th>Survived</th>\n",
              "      <th>Pclass</th>\n",
              "      <th>Name</th>\n",
              "      <th>Sex</th>\n",
              "      <th>Age</th>\n",
              "      <th>SibSp</th>\n",
              "      <th>Parch</th>\n",
              "      <th>Ticket</th>\n",
              "      <th>Fare</th>\n",
              "      <th>Cabin</th>\n",
              "      <th>Embarked</th>\n",
              "    </tr>\n",
              "  </thead>\n",
              "  <tbody>\n",
              "    <tr>\n",
              "      <th>0</th>\n",
              "      <td>1</td>\n",
              "      <td>0</td>\n",
              "      <td>3</td>\n",
              "      <td>Braund, Mr. Owen Harris</td>\n",
              "      <td>male</td>\n",
              "      <td>22.0</td>\n",
              "      <td>1</td>\n",
              "      <td>0</td>\n",
              "      <td>A/5 21171</td>\n",
              "      <td>7.2500</td>\n",
              "      <td>NaN</td>\n",
              "      <td>S</td>\n",
              "    </tr>\n",
              "    <tr>\n",
              "      <th>1</th>\n",
              "      <td>2</td>\n",
              "      <td>1</td>\n",
              "      <td>1</td>\n",
              "      <td>Cumings, Mrs. John Bradley (Florence Briggs Th...</td>\n",
              "      <td>female</td>\n",
              "      <td>38.0</td>\n",
              "      <td>1</td>\n",
              "      <td>0</td>\n",
              "      <td>PC 17599</td>\n",
              "      <td>71.2833</td>\n",
              "      <td>C85</td>\n",
              "      <td>C</td>\n",
              "    </tr>\n",
              "    <tr>\n",
              "      <th>2</th>\n",
              "      <td>3</td>\n",
              "      <td>1</td>\n",
              "      <td>3</td>\n",
              "      <td>Heikkinen, Miss. Laina</td>\n",
              "      <td>female</td>\n",
              "      <td>26.0</td>\n",
              "      <td>0</td>\n",
              "      <td>0</td>\n",
              "      <td>STON/O2. 3101282</td>\n",
              "      <td>7.9250</td>\n",
              "      <td>NaN</td>\n",
              "      <td>S</td>\n",
              "    </tr>\n",
              "    <tr>\n",
              "      <th>3</th>\n",
              "      <td>4</td>\n",
              "      <td>1</td>\n",
              "      <td>1</td>\n",
              "      <td>Futrelle, Mrs. Jacques Heath (Lily May Peel)</td>\n",
              "      <td>female</td>\n",
              "      <td>35.0</td>\n",
              "      <td>1</td>\n",
              "      <td>0</td>\n",
              "      <td>113803</td>\n",
              "      <td>53.1000</td>\n",
              "      <td>C123</td>\n",
              "      <td>S</td>\n",
              "    </tr>\n",
              "    <tr>\n",
              "      <th>4</th>\n",
              "      <td>5</td>\n",
              "      <td>0</td>\n",
              "      <td>3</td>\n",
              "      <td>Allen, Mr. William Henry</td>\n",
              "      <td>male</td>\n",
              "      <td>35.0</td>\n",
              "      <td>0</td>\n",
              "      <td>0</td>\n",
              "      <td>373450</td>\n",
              "      <td>8.0500</td>\n",
              "      <td>NaN</td>\n",
              "      <td>S</td>\n",
              "    </tr>\n",
              "  </tbody>\n",
              "</table>\n",
              "</div>"
            ],
            "text/plain": [
              "   PassengerId  Survived  Pclass  ...     Fare Cabin  Embarked\n",
              "0            1         0       3  ...   7.2500   NaN         S\n",
              "1            2         1       1  ...  71.2833   C85         C\n",
              "2            3         1       3  ...   7.9250   NaN         S\n",
              "3            4         1       1  ...  53.1000  C123         S\n",
              "4            5         0       3  ...   8.0500   NaN         S\n",
              "\n",
              "[5 rows x 12 columns]"
            ]
          },
          "metadata": {
            "tags": []
          },
          "execution_count": 3
        }
      ]
    },
    {
      "cell_type": "code",
      "metadata": {
        "id": "f97nxHupY07L",
        "outputId": "a1c46c56-363e-4ea6-979a-c2c84b283fb9",
        "colab": {
          "base_uri": "https://localhost:8080/",
          "height": 197
        }
      },
      "source": [
        "#checking the last five rows of the dataset\n",
        "titanic.tail()"
      ],
      "execution_count": 4,
      "outputs": [
        {
          "output_type": "execute_result",
          "data": {
            "text/html": [
              "<div>\n",
              "<style scoped>\n",
              "    .dataframe tbody tr th:only-of-type {\n",
              "        vertical-align: middle;\n",
              "    }\n",
              "\n",
              "    .dataframe tbody tr th {\n",
              "        vertical-align: top;\n",
              "    }\n",
              "\n",
              "    .dataframe thead th {\n",
              "        text-align: right;\n",
              "    }\n",
              "</style>\n",
              "<table border=\"1\" class=\"dataframe\">\n",
              "  <thead>\n",
              "    <tr style=\"text-align: right;\">\n",
              "      <th></th>\n",
              "      <th>PassengerId</th>\n",
              "      <th>Survived</th>\n",
              "      <th>Pclass</th>\n",
              "      <th>Name</th>\n",
              "      <th>Sex</th>\n",
              "      <th>Age</th>\n",
              "      <th>SibSp</th>\n",
              "      <th>Parch</th>\n",
              "      <th>Ticket</th>\n",
              "      <th>Fare</th>\n",
              "      <th>Cabin</th>\n",
              "      <th>Embarked</th>\n",
              "    </tr>\n",
              "  </thead>\n",
              "  <tbody>\n",
              "    <tr>\n",
              "      <th>886</th>\n",
              "      <td>887</td>\n",
              "      <td>0</td>\n",
              "      <td>2</td>\n",
              "      <td>Montvila, Rev. Juozas</td>\n",
              "      <td>male</td>\n",
              "      <td>27.0</td>\n",
              "      <td>0</td>\n",
              "      <td>0</td>\n",
              "      <td>211536</td>\n",
              "      <td>13.00</td>\n",
              "      <td>NaN</td>\n",
              "      <td>S</td>\n",
              "    </tr>\n",
              "    <tr>\n",
              "      <th>887</th>\n",
              "      <td>888</td>\n",
              "      <td>1</td>\n",
              "      <td>1</td>\n",
              "      <td>Graham, Miss. Margaret Edith</td>\n",
              "      <td>female</td>\n",
              "      <td>19.0</td>\n",
              "      <td>0</td>\n",
              "      <td>0</td>\n",
              "      <td>112053</td>\n",
              "      <td>30.00</td>\n",
              "      <td>B42</td>\n",
              "      <td>S</td>\n",
              "    </tr>\n",
              "    <tr>\n",
              "      <th>888</th>\n",
              "      <td>889</td>\n",
              "      <td>0</td>\n",
              "      <td>3</td>\n",
              "      <td>Johnston, Miss. Catherine Helen \"Carrie\"</td>\n",
              "      <td>female</td>\n",
              "      <td>NaN</td>\n",
              "      <td>1</td>\n",
              "      <td>2</td>\n",
              "      <td>W./C. 6607</td>\n",
              "      <td>23.45</td>\n",
              "      <td>NaN</td>\n",
              "      <td>S</td>\n",
              "    </tr>\n",
              "    <tr>\n",
              "      <th>889</th>\n",
              "      <td>890</td>\n",
              "      <td>1</td>\n",
              "      <td>1</td>\n",
              "      <td>Behr, Mr. Karl Howell</td>\n",
              "      <td>male</td>\n",
              "      <td>26.0</td>\n",
              "      <td>0</td>\n",
              "      <td>0</td>\n",
              "      <td>111369</td>\n",
              "      <td>30.00</td>\n",
              "      <td>C148</td>\n",
              "      <td>C</td>\n",
              "    </tr>\n",
              "    <tr>\n",
              "      <th>890</th>\n",
              "      <td>891</td>\n",
              "      <td>0</td>\n",
              "      <td>3</td>\n",
              "      <td>Dooley, Mr. Patrick</td>\n",
              "      <td>male</td>\n",
              "      <td>32.0</td>\n",
              "      <td>0</td>\n",
              "      <td>0</td>\n",
              "      <td>370376</td>\n",
              "      <td>7.75</td>\n",
              "      <td>NaN</td>\n",
              "      <td>Q</td>\n",
              "    </tr>\n",
              "  </tbody>\n",
              "</table>\n",
              "</div>"
            ],
            "text/plain": [
              "     PassengerId  Survived  Pclass  ...   Fare Cabin  Embarked\n",
              "886          887         0       2  ...  13.00   NaN         S\n",
              "887          888         1       1  ...  30.00   B42         S\n",
              "888          889         0       3  ...  23.45   NaN         S\n",
              "889          890         1       1  ...  30.00  C148         C\n",
              "890          891         0       3  ...   7.75   NaN         Q\n",
              "\n",
              "[5 rows x 12 columns]"
            ]
          },
          "metadata": {
            "tags": []
          },
          "execution_count": 4
        }
      ]
    },
    {
      "cell_type": "code",
      "metadata": {
        "id": "EG4ZrM_dY3IS",
        "outputId": "0b99e67c-58a6-4abc-db8e-f3439ba714eb",
        "colab": {
          "base_uri": "https://localhost:8080/",
          "height": 34
        }
      },
      "source": [
        "#checking for the rows and columns\n",
        "titanic.shape"
      ],
      "execution_count": 5,
      "outputs": [
        {
          "output_type": "execute_result",
          "data": {
            "text/plain": [
              "(891, 12)"
            ]
          },
          "metadata": {
            "tags": []
          },
          "execution_count": 5
        }
      ]
    },
    {
      "cell_type": "markdown",
      "metadata": {
        "id": "oTafTDpyQv_N"
      },
      "source": [
        "We have 891 rows and 12 columns."
      ]
    },
    {
      "cell_type": "code",
      "metadata": {
        "id": "HJ6naJFgQ0vo",
        "outputId": "59f1eb20-0ff6-4d3b-9ade-f63da5b69d6e",
        "colab": {
          "base_uri": "https://localhost:8080/",
          "height": 70
        }
      },
      "source": [
        "titanic.columns"
      ],
      "execution_count": 7,
      "outputs": [
        {
          "output_type": "execute_result",
          "data": {
            "text/plain": [
              "Index(['PassengerId', 'Survived', 'Pclass', 'Name', 'Sex', 'Age', 'SibSp',\n",
              "       'Parch', 'Ticket', 'Fare', 'Cabin', 'Embarked'],\n",
              "      dtype='object')"
            ]
          },
          "metadata": {
            "tags": []
          },
          "execution_count": 7
        }
      ]
    },
    {
      "cell_type": "markdown",
      "metadata": {
        "id": "qT2RoI2nQ6_S"
      },
      "source": [
        "The following are the columns;\n",
        "* PassengerId\n",
        "* Survived - Survival (0=No, 1=Yes)\n",
        "* Pclass - The class for the ticket.(1, 2, 3)\n",
        "* Name - Name of passenger\n",
        "* Sex - Sex of passenger\n",
        "* Age - Age of passenger\n",
        "* SibSp - Number of siblings or spouses onboard\n",
        "* Parch - Number of parents or children onboard.\n",
        "* Ticket - Ticket number\n",
        "* Fare - Fare\n",
        "* Cabin - Cabin number\n",
        "* Embarked - Point of Embarkment(C = Cherbourg, Q = Queenstown, S = Southampton)"
      ]
    },
    {
      "cell_type": "code",
      "metadata": {
        "id": "fFpgkPkbY5KS",
        "outputId": "e00500cc-d005-4303-9d06-c0c0f035fbe0",
        "colab": {
          "base_uri": "https://localhost:8080/",
          "height": 354
        }
      },
      "source": [
        "#checking for dataset information\n",
        "titanic.info()"
      ],
      "execution_count": 8,
      "outputs": [
        {
          "output_type": "stream",
          "text": [
            "<class 'pandas.core.frame.DataFrame'>\n",
            "RangeIndex: 891 entries, 0 to 890\n",
            "Data columns (total 12 columns):\n",
            " #   Column       Non-Null Count  Dtype  \n",
            "---  ------       --------------  -----  \n",
            " 0   PassengerId  891 non-null    int64  \n",
            " 1   Survived     891 non-null    int64  \n",
            " 2   Pclass       891 non-null    int64  \n",
            " 3   Name         891 non-null    object \n",
            " 4   Sex          891 non-null    object \n",
            " 5   Age          714 non-null    float64\n",
            " 6   SibSp        891 non-null    int64  \n",
            " 7   Parch        891 non-null    int64  \n",
            " 8   Ticket       891 non-null    object \n",
            " 9   Fare         891 non-null    float64\n",
            " 10  Cabin        204 non-null    object \n",
            " 11  Embarked     889 non-null    object \n",
            "dtypes: float64(2), int64(5), object(5)\n",
            "memory usage: 83.7+ KB\n"
          ],
          "name": "stdout"
        }
      ]
    },
    {
      "cell_type": "code",
      "metadata": {
        "id": "mlJ85K0vY6lK",
        "outputId": "902870b3-4d08-4603-ac16-e74731c37586",
        "colab": {
          "base_uri": "https://localhost:8080/",
          "height": 247
        }
      },
      "source": [
        "#checking for null values.\n",
        "titanic.isnull().sum()"
      ],
      "execution_count": 9,
      "outputs": [
        {
          "output_type": "execute_result",
          "data": {
            "text/plain": [
              "PassengerId      0\n",
              "Survived         0\n",
              "Pclass           0\n",
              "Name             0\n",
              "Sex              0\n",
              "Age            177\n",
              "SibSp            0\n",
              "Parch            0\n",
              "Ticket           0\n",
              "Fare             0\n",
              "Cabin          687\n",
              "Embarked         2\n",
              "dtype: int64"
            ]
          },
          "metadata": {
            "tags": []
          },
          "execution_count": 9
        }
      ]
    },
    {
      "cell_type": "markdown",
      "metadata": {
        "id": "3Cqw4uMRkQK6"
      },
      "source": [
        "We can see that age, cabin and embarked have null values.\n",
        "\n",
        "For the age and cabin columns, we are going to explore them and determine what to do but since the embarked column has only two, we are going to drop them."
      ]
    },
    {
      "cell_type": "code",
      "metadata": {
        "id": "5fEZbEMzZCRP",
        "outputId": "3fea1b93-1574-485c-d8da-1317f8bc74fb",
        "colab": {
          "base_uri": "https://localhost:8080/",
          "height": 34
        }
      },
      "source": [
        "#checking for duplicated values\n",
        "titanic.duplicated().sum()"
      ],
      "execution_count": 10,
      "outputs": [
        {
          "output_type": "execute_result",
          "data": {
            "text/plain": [
              "0"
            ]
          },
          "metadata": {
            "tags": []
          },
          "execution_count": 10
        }
      ]
    },
    {
      "cell_type": "markdown",
      "metadata": {
        "id": "BbPwTT2qmsHY"
      },
      "source": [
        "We do not have any duplicated values in our dataset"
      ]
    },
    {
      "cell_type": "code",
      "metadata": {
        "id": "z3RoVvbHZEFH",
        "outputId": "e2781ee0-0783-4389-9184-82044dc4d4ea",
        "colab": {
          "base_uri": "https://localhost:8080/",
          "height": 247
        }
      },
      "source": [
        "#checking the number of unique values in the columns\n",
        "titanic.nunique()"
      ],
      "execution_count": 11,
      "outputs": [
        {
          "output_type": "execute_result",
          "data": {
            "text/plain": [
              "PassengerId    891\n",
              "Survived         2\n",
              "Pclass           3\n",
              "Name           891\n",
              "Sex              2\n",
              "Age             88\n",
              "SibSp            7\n",
              "Parch            7\n",
              "Ticket         681\n",
              "Fare           248\n",
              "Cabin          147\n",
              "Embarked         3\n",
              "dtype: int64"
            ]
          },
          "metadata": {
            "tags": []
          },
          "execution_count": 11
        }
      ]
    },
    {
      "cell_type": "code",
      "metadata": {
        "id": "cNmO4i9AssL9",
        "outputId": "e5446616-5b65-4dd3-d51d-ee972857dfe1",
        "colab": {
          "base_uri": "https://localhost:8080/",
          "height": 264
        }
      },
      "source": [
        "#plotting outliers in the numerical variables.\n",
        "colmns = titanic[['Survived','Pclass','Age','SibSp','Parch','Fare']]\n",
        "plt.figure\n",
        "ax = sns.boxplot(data = colmns)\n",
        "plt.show()"
      ],
      "execution_count": 12,
      "outputs": [
        {
          "output_type": "display_data",
          "data": {
            "image/png": "[encoded data removed]",
            "text/plain": [
              "<Figure size 432x288 with 1 Axes>"
            ]
          },
          "metadata": {
            "tags": [],
            "needs_background": "light"
          }
        }
      ]
    },
    {
      "cell_type": "markdown",
      "metadata": {
        "id": "W_Lc4TrOleVs"
      },
      "source": [
        "## **Tidying The Dataset.**"
      ]
    },
    {
      "cell_type": "markdown",
      "metadata": {
        "id": "dztSSbKjlhIs"
      },
      "source": [
        "We will start by first removing the embarked null values."
      ]
    },
    {
      "cell_type": "code",
      "metadata": {
        "id": "MKlYXW0Ulgn0"
      },
      "source": [
        "#dropping null values in the Embarked column.\n",
        "titanic = titanic.dropna(subset=['Embarked'])"
      ],
      "execution_count": 13,
      "outputs": []
    },
    {
      "cell_type": "markdown",
      "metadata": {
        "id": "uTqfVeFPpgPK"
      },
      "source": [
        "We will now explore the age column in order for us to fill in the missing values appropriately."
      ]
    },
    {
      "cell_type": "code",
      "metadata": {
        "id": "NqY26gIxldu8",
        "outputId": "98479af3-5b45-4b49-fd98-66cd50c47ce4",
        "colab": {
          "base_uri": "https://localhost:8080/",
          "height": 296
        }
      },
      "source": [
        "#plotting a boxplot for ages and the Pclass.\n",
        "sns.boxplot(x='Pclass', y='Age', data=titanic)"
      ],
      "execution_count": 14,
      "outputs": [
        {
          "output_type": "execute_result",
          "data": {
            "text/plain": [
              "<matplotlib.axes._subplots.AxesSubplot at 0x7fe54c890d68>"
            ]
          },
          "metadata": {
            "tags": []
          },
          "execution_count": 14
        },
        {
          "output_type": "display_data",
          "data": {
            "image/png": "[encoded data removed]",
            "text/plain": [
              "<Figure size 432x288 with 1 Axes>"
            ]
          },
          "metadata": {
            "tags": [],
            "needs_background": "light"
          }
        }
      ]
    },
    {
      "cell_type": "markdown",
      "metadata": {
        "id": "3jWlbNpzpnWl"
      },
      "source": [
        "From our plot, we can sea that people with a higher age tend to be in the first class, compared to the youger group in the second and third class.\n",
        "\n",
        "The mean ages for the three groups is as follows:\n",
        "\n",
        "38 - First Class\n",
        "\n",
        "29 - Second Class\n",
        "\n",
        "23 - Third Class\n",
        "\n",
        "We are thus going to create a function for replacement of the null values in the age column."
      ]
    },
    {
      "cell_type": "code",
      "metadata": {
        "id": "-Xbk0sFJpUGI"
      },
      "source": [
        "#creating a function for returning means of ages in different Pclasses.\n",
        "def null_age_repl(cols):\n",
        "    Age = cols[0]\n",
        "    Pclass = cols[1]\n",
        "    \n",
        "    if pd.isnull(Age):\n",
        "        if Pclass == 1:\n",
        "            return 38\n",
        "        elif Pclass == 2:\n",
        "            return 29\n",
        "        else:\n",
        "            return 23\n",
        "    else:\n",
        "        return Age\n",
        "#using the function for the replacement of the null values.\n",
        "titanic['Age'] = titanic[['Age', 'Pclass']].apply(null_age_repl, axis=1)"
      ],
      "execution_count": 15,
      "outputs": []
    },
    {
      "cell_type": "code",
      "metadata": {
        "id": "wnOjdFCGrsmG",
        "outputId": "8f9ab699-6548-455e-c567-ebc1afd19136",
        "colab": {
          "base_uri": "https://localhost:8080/",
          "height": 247
        }
      },
      "source": [
        "#checking for null values.\n",
        "titanic.isnull().sum()"
      ],
      "execution_count": 16,
      "outputs": [
        {
          "output_type": "execute_result",
          "data": {
            "text/plain": [
              "PassengerId      0\n",
              "Survived         0\n",
              "Pclass           0\n",
              "Name             0\n",
              "Sex              0\n",
              "Age              0\n",
              "SibSp            0\n",
              "Parch            0\n",
              "Ticket           0\n",
              "Fare             0\n",
              "Cabin          687\n",
              "Embarked         0\n",
              "dtype: int64"
            ]
          },
          "metadata": {
            "tags": []
          },
          "execution_count": 16
        }
      ]
    },
    {
      "cell_type": "markdown",
      "metadata": {
        "id": "bmFfIGJyrwt3"
      },
      "source": [
        "We can see that the ages have been updated. We will drop the cabin column along with other columns since we will not use them in our classification, thus there is no need to deal with the null values."
      ]
    },
    {
      "cell_type": "code",
      "metadata": {
        "id": "bKXGC0iVqz6v"
      },
      "source": [
        "#dropping the colmns that we do not need.\n",
        "titanic = titanic.drop(columns=['PassengerId','Name','Ticket','Cabin'])"
      ],
      "execution_count": 17,
      "outputs": []
    },
    {
      "cell_type": "code",
      "metadata": {
        "id": "GzVEKzWV06UK",
        "outputId": "7fe52fca-b354-4021-e7cb-2a063f48314a",
        "colab": {
          "base_uri": "https://localhost:8080/",
          "height": 347
        }
      },
      "source": [
        "titanic.head(10)"
      ],
      "execution_count": 18,
      "outputs": [
        {
          "output_type": "execute_result",
          "data": {
            "text/html": [
              "<div>\n",
              "<style scoped>\n",
              "    .dataframe tbody tr th:only-of-type {\n",
              "        vertical-align: middle;\n",
              "    }\n",
              "\n",
              "    .dataframe tbody tr th {\n",
              "        vertical-align: top;\n",
              "    }\n",
              "\n",
              "    .dataframe thead th {\n",
              "        text-align: right;\n",
              "    }\n",
              "</style>\n",
              "<table border=\"1\" class=\"dataframe\">\n",
              "  <thead>\n",
              "    <tr style=\"text-align: right;\">\n",
              "      <th></th>\n",
              "      <th>Survived</th>\n",
              "      <th>Pclass</th>\n",
              "      <th>Sex</th>\n",
              "      <th>Age</th>\n",
              "      <th>SibSp</th>\n",
              "      <th>Parch</th>\n",
              "      <th>Fare</th>\n",
              "      <th>Embarked</th>\n",
              "    </tr>\n",
              "  </thead>\n",
              "  <tbody>\n",
              "    <tr>\n",
              "      <th>0</th>\n",
              "      <td>0</td>\n",
              "      <td>3</td>\n",
              "      <td>male</td>\n",
              "      <td>22.0</td>\n",
              "      <td>1</td>\n",
              "      <td>0</td>\n",
              "      <td>7.2500</td>\n",
              "      <td>S</td>\n",
              "    </tr>\n",
              "    <tr>\n",
              "      <th>1</th>\n",
              "      <td>1</td>\n",
              "      <td>1</td>\n",
              "      <td>female</td>\n",
              "      <td>38.0</td>\n",
              "      <td>1</td>\n",
              "      <td>0</td>\n",
              "      <td>71.2833</td>\n",
              "      <td>C</td>\n",
              "    </tr>\n",
              "    <tr>\n",
              "      <th>2</th>\n",
              "      <td>1</td>\n",
              "      <td>3</td>\n",
              "      <td>female</td>\n",
              "      <td>26.0</td>\n",
              "      <td>0</td>\n",
              "      <td>0</td>\n",
              "      <td>7.9250</td>\n",
              "      <td>S</td>\n",
              "    </tr>\n",
              "    <tr>\n",
              "      <th>3</th>\n",
              "      <td>1</td>\n",
              "      <td>1</td>\n",
              "      <td>female</td>\n",
              "      <td>35.0</td>\n",
              "      <td>1</td>\n",
              "      <td>0</td>\n",
              "      <td>53.1000</td>\n",
              "      <td>S</td>\n",
              "    </tr>\n",
              "    <tr>\n",
              "      <th>4</th>\n",
              "      <td>0</td>\n",
              "      <td>3</td>\n",
              "      <td>male</td>\n",
              "      <td>35.0</td>\n",
              "      <td>0</td>\n",
              "      <td>0</td>\n",
              "      <td>8.0500</td>\n",
              "      <td>S</td>\n",
              "    </tr>\n",
              "    <tr>\n",
              "      <th>5</th>\n",
              "      <td>0</td>\n",
              "      <td>3</td>\n",
              "      <td>male</td>\n",
              "      <td>23.0</td>\n",
              "      <td>0</td>\n",
              "      <td>0</td>\n",
              "      <td>8.4583</td>\n",
              "      <td>Q</td>\n",
              "    </tr>\n",
              "    <tr>\n",
              "      <th>6</th>\n",
              "      <td>0</td>\n",
              "      <td>1</td>\n",
              "      <td>male</td>\n",
              "      <td>54.0</td>\n",
              "      <td>0</td>\n",
              "      <td>0</td>\n",
              "      <td>51.8625</td>\n",
              "      <td>S</td>\n",
              "    </tr>\n",
              "    <tr>\n",
              "      <th>7</th>\n",
              "      <td>0</td>\n",
              "      <td>3</td>\n",
              "      <td>male</td>\n",
              "      <td>2.0</td>\n",
              "      <td>3</td>\n",
              "      <td>1</td>\n",
              "      <td>21.0750</td>\n",
              "      <td>S</td>\n",
              "    </tr>\n",
              "    <tr>\n",
              "      <th>8</th>\n",
              "      <td>1</td>\n",
              "      <td>3</td>\n",
              "      <td>female</td>\n",
              "      <td>27.0</td>\n",
              "      <td>0</td>\n",
              "      <td>2</td>\n",
              "      <td>11.1333</td>\n",
              "      <td>S</td>\n",
              "    </tr>\n",
              "    <tr>\n",
              "      <th>9</th>\n",
              "      <td>1</td>\n",
              "      <td>2</td>\n",
              "      <td>female</td>\n",
              "      <td>14.0</td>\n",
              "      <td>1</td>\n",
              "      <td>0</td>\n",
              "      <td>30.0708</td>\n",
              "      <td>C</td>\n",
              "    </tr>\n",
              "  </tbody>\n",
              "</table>\n",
              "</div>"
            ],
            "text/plain": [
              "   Survived  Pclass     Sex   Age  SibSp  Parch     Fare Embarked\n",
              "0         0       3    male  22.0      1      0   7.2500        S\n",
              "1         1       1  female  38.0      1      0  71.2833        C\n",
              "2         1       3  female  26.0      0      0   7.9250        S\n",
              "3         1       1  female  35.0      1      0  53.1000        S\n",
              "4         0       3    male  35.0      0      0   8.0500        S\n",
              "5         0       3    male  23.0      0      0   8.4583        Q\n",
              "6         0       1    male  54.0      0      0  51.8625        S\n",
              "7         0       3    male   2.0      3      1  21.0750        S\n",
              "8         1       3  female  27.0      0      2  11.1333        S\n",
              "9         1       2  female  14.0      1      0  30.0708        C"
            ]
          },
          "metadata": {
            "tags": []
          },
          "execution_count": 18
        }
      ]
    },
    {
      "cell_type": "code",
      "metadata": {
        "id": "0fnFTD051MsB"
      },
      "source": [
        "#changing the stated columns to string datatype.\n",
        "titanic[\"Sex\"] = titanic[\"Sex\"].astype('str')\n",
        "titanic[\"Embarked\"] = titanic[\"Embarked\"].astype('str')\n",
        "\n",
        "#creating the encoder.\n",
        "le = LabelEncoder()\n",
        "\n",
        "#encoding the values in the columns.\n",
        "titanic['Sex'] = le.fit_transform(titanic['Sex'])\n",
        "titanic['Embarked'] = le.fit_transform(titanic['Embarked'])"
      ],
      "execution_count": 19,
      "outputs": []
    },
    {
      "cell_type": "code",
      "metadata": {
        "id": "gNRWKNJF1_I9",
        "outputId": "fec5d2df-46a4-4717-d189-9762dd1e2183",
        "colab": {
          "base_uri": "https://localhost:8080/",
          "height": 347
        }
      },
      "source": [
        "titanic.head(10)"
      ],
      "execution_count": 20,
      "outputs": [
        {
          "output_type": "execute_result",
          "data": {
            "text/html": [
              "<div>\n",
              "<style scoped>\n",
              "    .dataframe tbody tr th:only-of-type {\n",
              "        vertical-align: middle;\n",
              "    }\n",
              "\n",
              "    .dataframe tbody tr th {\n",
              "        vertical-align: top;\n",
              "    }\n",
              "\n",
              "    .dataframe thead th {\n",
              "        text-align: right;\n",
              "    }\n",
              "</style>\n",
              "<table border=\"1\" class=\"dataframe\">\n",
              "  <thead>\n",
              "    <tr style=\"text-align: right;\">\n",
              "      <th></th>\n",
              "      <th>Survived</th>\n",
              "      <th>Pclass</th>\n",
              "      <th>Sex</th>\n",
              "      <th>Age</th>\n",
              "      <th>SibSp</th>\n",
              "      <th>Parch</th>\n",
              "      <th>Fare</th>\n",
              "      <th>Embarked</th>\n",
              "    </tr>\n",
              "  </thead>\n",
              "  <tbody>\n",
              "    <tr>\n",
              "      <th>0</th>\n",
              "      <td>0</td>\n",
              "      <td>3</td>\n",
              "      <td>1</td>\n",
              "      <td>22.0</td>\n",
              "      <td>1</td>\n",
              "      <td>0</td>\n",
              "      <td>7.2500</td>\n",
              "      <td>2</td>\n",
              "    </tr>\n",
              "    <tr>\n",
              "      <th>1</th>\n",
              "      <td>1</td>\n",
              "      <td>1</td>\n",
              "      <td>0</td>\n",
              "      <td>38.0</td>\n",
              "      <td>1</td>\n",
              "      <td>0</td>\n",
              "      <td>71.2833</td>\n",
              "      <td>0</td>\n",
              "    </tr>\n",
              "    <tr>\n",
              "      <th>2</th>\n",
              "      <td>1</td>\n",
              "      <td>3</td>\n",
              "      <td>0</td>\n",
              "      <td>26.0</td>\n",
              "      <td>0</td>\n",
              "      <td>0</td>\n",
              "      <td>7.9250</td>\n",
              "      <td>2</td>\n",
              "    </tr>\n",
              "    <tr>\n",
              "      <th>3</th>\n",
              "      <td>1</td>\n",
              "      <td>1</td>\n",
              "      <td>0</td>\n",
              "      <td>35.0</td>\n",
              "      <td>1</td>\n",
              "      <td>0</td>\n",
              "      <td>53.1000</td>\n",
              "      <td>2</td>\n",
              "    </tr>\n",
              "    <tr>\n",
              "      <th>4</th>\n",
              "      <td>0</td>\n",
              "      <td>3</td>\n",
              "      <td>1</td>\n",
              "      <td>35.0</td>\n",
              "      <td>0</td>\n",
              "      <td>0</td>\n",
              "      <td>8.0500</td>\n",
              "      <td>2</td>\n",
              "    </tr>\n",
              "    <tr>\n",
              "      <th>5</th>\n",
              "      <td>0</td>\n",
              "      <td>3</td>\n",
              "      <td>1</td>\n",
              "      <td>23.0</td>\n",
              "      <td>0</td>\n",
              "      <td>0</td>\n",
              "      <td>8.4583</td>\n",
              "      <td>1</td>\n",
              "    </tr>\n",
              "    <tr>\n",
              "      <th>6</th>\n",
              "      <td>0</td>\n",
              "      <td>1</td>\n",
              "      <td>1</td>\n",
              "      <td>54.0</td>\n",
              "      <td>0</td>\n",
              "      <td>0</td>\n",
              "      <td>51.8625</td>\n",
              "      <td>2</td>\n",
              "    </tr>\n",
              "    <tr>\n",
              "      <th>7</th>\n",
              "      <td>0</td>\n",
              "      <td>3</td>\n",
              "      <td>1</td>\n",
              "      <td>2.0</td>\n",
              "      <td>3</td>\n",
              "      <td>1</td>\n",
              "      <td>21.0750</td>\n",
              "      <td>2</td>\n",
              "    </tr>\n",
              "    <tr>\n",
              "      <th>8</th>\n",
              "      <td>1</td>\n",
              "      <td>3</td>\n",
              "      <td>0</td>\n",
              "      <td>27.0</td>\n",
              "      <td>0</td>\n",
              "      <td>2</td>\n",
              "      <td>11.1333</td>\n",
              "      <td>2</td>\n",
              "    </tr>\n",
              "    <tr>\n",
              "      <th>9</th>\n",
              "      <td>1</td>\n",
              "      <td>2</td>\n",
              "      <td>0</td>\n",
              "      <td>14.0</td>\n",
              "      <td>1</td>\n",
              "      <td>0</td>\n",
              "      <td>30.0708</td>\n",
              "      <td>0</td>\n",
              "    </tr>\n",
              "  </tbody>\n",
              "</table>\n",
              "</div>"
            ],
            "text/plain": [
              "   Survived  Pclass  Sex   Age  SibSp  Parch     Fare  Embarked\n",
              "0         0       3    1  22.0      1      0   7.2500         2\n",
              "1         1       1    0  38.0      1      0  71.2833         0\n",
              "2         1       3    0  26.0      0      0   7.9250         2\n",
              "3         1       1    0  35.0      1      0  53.1000         2\n",
              "4         0       3    1  35.0      0      0   8.0500         2\n",
              "5         0       3    1  23.0      0      0   8.4583         1\n",
              "6         0       1    1  54.0      0      0  51.8625         2\n",
              "7         0       3    1   2.0      3      1  21.0750         2\n",
              "8         1       3    0  27.0      0      2  11.1333         2\n",
              "9         1       2    0  14.0      1      0  30.0708         0"
            ]
          },
          "metadata": {
            "tags": []
          },
          "execution_count": 20
        }
      ]
    },
    {
      "cell_type": "markdown",
      "metadata": {
        "id": "NKWckUJFsIfi"
      },
      "source": [
        "# **Exploratory Data Analysis**"
      ]
    },
    {
      "cell_type": "code",
      "metadata": {
        "id": "VelUBLeDsNKx",
        "outputId": "11cfe156-96aa-4861-accc-a312a01e0d22",
        "colab": {
          "base_uri": "https://localhost:8080/",
          "height": 1000
        }
      },
      "source": [
        "#declaring the columns and creating a loop for the histogram plots.\n",
        "colmn = ['Survived','Pclass','Age','SibSp','Parch','Fare']\n",
        "fig, ax = plt.subplots(len(colmn), figsize=(10,20))\n",
        "\n",
        "for i, col_val in enumerate(colmn):\n",
        "\n",
        "    sns.distplot(titanic[col_val], hist=True, ax=ax[i])\n",
        "    ax[i].set_xlabel(col_val, fontsize=8)\n",
        "    ax[i].set_ylabel('Count', fontsize=8)\n",
        "\n",
        "plt.show()"
      ],
      "execution_count": 21,
      "outputs": [
        {
          "output_type": "display_data",
          "data": {
            "image/png": "[encoded data removed]",
            "text/plain": [
              "<Figure size 720x1440 with 6 Axes>"
            ]
          },
          "metadata": {
            "tags": [],
            "needs_background": "light"
          }
        }
      ]
    },
    {
      "cell_type": "code",
      "metadata": {
        "id": "1N7y264CyCdv",
        "outputId": "c77a29b0-b896-45e3-8ada-3fd3ac1d8aea",
        "colab": {
          "base_uri": "https://localhost:8080/",
          "height": 296
        }
      },
      "source": [
        "#viewing the state of survivors in the passenger classes.\n",
        "sns.countplot('Pclass', hue = 'Survived', data = titanic)"
      ],
      "execution_count": 22,
      "outputs": [
        {
          "output_type": "execute_result",
          "data": {
            "text/plain": [
              "<matplotlib.axes._subplots.AxesSubplot at 0x7fe54ce45240>"
            ]
          },
          "metadata": {
            "tags": []
          },
          "execution_count": 22
        },
        {
          "output_type": "display_data",
          "data": {
            "image/png": "[encoded data removed]",
            "text/plain": [
              "<Figure size 432x288 with 1 Axes>"
            ]
          },
          "metadata": {
            "tags": [],
            "needs_background": "light"
          }
        }
      ]
    },
    {
      "cell_type": "markdown",
      "metadata": {
        "id": "6hJgDH6nRkYZ"
      },
      "source": [
        "* Majority of people in the 3rd class did not survive."
      ]
    },
    {
      "cell_type": "code",
      "metadata": {
        "id": "J3hr6n8k-Df0",
        "outputId": "11814e77-bc46-4286-ce32-21d0b803483d",
        "colab": {
          "base_uri": "https://localhost:8080/",
          "height": 296
        }
      },
      "source": [
        "#viewing the state of survivors according to where they embarked from\n",
        "sns.countplot('Embarked', hue = 'Survived', data = titanic)"
      ],
      "execution_count": 25,
      "outputs": [
        {
          "output_type": "execute_result",
          "data": {
            "text/plain": [
              "<matplotlib.axes._subplots.AxesSubplot at 0x7fe549900be0>"
            ]
          },
          "metadata": {
            "tags": []
          },
          "execution_count": 25
        },
        {
          "output_type": "display_data",
          "data": {
            "image/png": "[encoded data removed]",
            "text/plain": [
              "<Figure size 432x288 with 1 Axes>"
            ]
          },
          "metadata": {
            "tags": [],
            "needs_background": "light"
          }
        }
      ]
    },
    {
      "cell_type": "code",
      "metadata": {
        "id": "cyiUIn4f-FTF",
        "outputId": "db6bd639-5cb4-4da7-f3d9-5d628b88a726",
        "colab": {
          "base_uri": "https://localhost:8080/",
          "height": 296
        }
      },
      "source": [
        "#viewing the state of survivors according to the number of children or parent onboard\n",
        "sns.countplot('Parch', hue = 'Survived', data = titanic)"
      ],
      "execution_count": 26,
      "outputs": [
        {
          "output_type": "execute_result",
          "data": {
            "text/plain": [
              "<matplotlib.axes._subplots.AxesSubplot at 0x7fe5497e15f8>"
            ]
          },
          "metadata": {
            "tags": []
          },
          "execution_count": 26
        },
        {
          "output_type": "display_data",
          "data": {
            "image/png": "[encoded data removed]",
            "text/plain": [
              "<Figure size 432x288 with 1 Axes>"
            ]
          },
          "metadata": {
            "tags": [],
            "needs_background": "light"
          }
        }
      ]
    },
    {
      "cell_type": "code",
      "metadata": {
        "id": "ByP2cU3P-UBh",
        "outputId": "d04f4a20-6493-45c3-f884-30765601ca8a",
        "colab": {
          "base_uri": "https://localhost:8080/",
          "height": 296
        }
      },
      "source": [
        "#viewing the state of survivors according to the number of siblings or spouses onboard.\n",
        "sns.countplot('SibSp', hue = 'Survived', data = titanic)"
      ],
      "execution_count": null,
      "outputs": [
        {
          "output_type": "execute_result",
          "data": {
            "text/plain": [
              "<matplotlib.axes._subplots.AxesSubplot at 0x7fc9a73658d0>"
            ]
          },
          "metadata": {
            "tags": []
          },
          "execution_count": 27
        },
        {
          "output_type": "display_data",
          "data": {
            "image/png": "[encoded data removed]",
            "text/plain": [
              "<Figure size 432x288 with 1 Axes>"
            ]
          },
          "metadata": {
            "tags": [],
            "needs_background": "light"
          }
        }
      ]
    },
    {
      "cell_type": "code",
      "metadata": {
        "id": "CErkhPp8SeJv",
        "outputId": "7400bde4-f95f-4834-8acd-09b5bc98d9ed",
        "colab": {
          "base_uri": "https://localhost:8080/",
          "height": 287
        }
      },
      "source": [
        "#creating the correlation matrix.\n",
        "correlation = titanic.corr()\n",
        "correlation"
      ],
      "execution_count": null,
      "outputs": [
        {
          "output_type": "execute_result",
          "data": {
            "text/html": [
              "<div>\n",
              "<style scoped>\n",
              "    .dataframe tbody tr th:only-of-type {\n",
              "        vertical-align: middle;\n",
              "    }\n",
              "\n",
              "    .dataframe tbody tr th {\n",
              "        vertical-align: top;\n",
              "    }\n",
              "\n",
              "    .dataframe thead th {\n",
              "        text-align: right;\n",
              "    }\n",
              "</style>\n",
              "<table border=\"1\" class=\"dataframe\">\n",
              "  <thead>\n",
              "    <tr style=\"text-align: right;\">\n",
              "      <th></th>\n",
              "      <th>Survived</th>\n",
              "      <th>Pclass</th>\n",
              "      <th>Sex</th>\n",
              "      <th>Age</th>\n",
              "      <th>SibSp</th>\n",
              "      <th>Parch</th>\n",
              "      <th>Fare</th>\n",
              "      <th>Embarked</th>\n",
              "    </tr>\n",
              "  </thead>\n",
              "  <tbody>\n",
              "    <tr>\n",
              "      <th>Survived</th>\n",
              "      <td>1.000000</td>\n",
              "      <td>-0.335549</td>\n",
              "      <td>-0.541585</td>\n",
              "      <td>-0.048141</td>\n",
              "      <td>-0.034040</td>\n",
              "      <td>0.083151</td>\n",
              "      <td>0.255290</td>\n",
              "      <td>-0.169718</td>\n",
              "    </tr>\n",
              "    <tr>\n",
              "      <th>Pclass</th>\n",
              "      <td>-0.335549</td>\n",
              "      <td>1.000000</td>\n",
              "      <td>0.127741</td>\n",
              "      <td>-0.416454</td>\n",
              "      <td>0.081656</td>\n",
              "      <td>0.016824</td>\n",
              "      <td>-0.548193</td>\n",
              "      <td>0.164681</td>\n",
              "    </tr>\n",
              "    <tr>\n",
              "      <th>Sex</th>\n",
              "      <td>-0.541585</td>\n",
              "      <td>0.127741</td>\n",
              "      <td>1.000000</td>\n",
              "      <td>0.082450</td>\n",
              "      <td>-0.116348</td>\n",
              "      <td>-0.247508</td>\n",
              "      <td>-0.179958</td>\n",
              "      <td>0.110320</td>\n",
              "    </tr>\n",
              "    <tr>\n",
              "      <th>Age</th>\n",
              "      <td>-0.048141</td>\n",
              "      <td>-0.416454</td>\n",
              "      <td>0.082450</td>\n",
              "      <td>1.000000</td>\n",
              "      <td>-0.243747</td>\n",
              "      <td>-0.167897</td>\n",
              "      <td>0.125621</td>\n",
              "      <td>-0.010438</td>\n",
              "    </tr>\n",
              "    <tr>\n",
              "      <th>SibSp</th>\n",
              "      <td>-0.034040</td>\n",
              "      <td>0.081656</td>\n",
              "      <td>-0.116348</td>\n",
              "      <td>-0.243747</td>\n",
              "      <td>1.000000</td>\n",
              "      <td>0.414542</td>\n",
              "      <td>0.160887</td>\n",
              "      <td>0.068900</td>\n",
              "    </tr>\n",
              "    <tr>\n",
              "      <th>Parch</th>\n",
              "      <td>0.083151</td>\n",
              "      <td>0.016824</td>\n",
              "      <td>-0.247508</td>\n",
              "      <td>-0.167897</td>\n",
              "      <td>0.414542</td>\n",
              "      <td>1.000000</td>\n",
              "      <td>0.217532</td>\n",
              "      <td>0.040449</td>\n",
              "    </tr>\n",
              "    <tr>\n",
              "      <th>Fare</th>\n",
              "      <td>0.255290</td>\n",
              "      <td>-0.548193</td>\n",
              "      <td>-0.179958</td>\n",
              "      <td>0.125621</td>\n",
              "      <td>0.160887</td>\n",
              "      <td>0.217532</td>\n",
              "      <td>1.000000</td>\n",
              "      <td>-0.226311</td>\n",
              "    </tr>\n",
              "    <tr>\n",
              "      <th>Embarked</th>\n",
              "      <td>-0.169718</td>\n",
              "      <td>0.164681</td>\n",
              "      <td>0.110320</td>\n",
              "      <td>-0.010438</td>\n",
              "      <td>0.068900</td>\n",
              "      <td>0.040449</td>\n",
              "      <td>-0.226311</td>\n",
              "      <td>1.000000</td>\n",
              "    </tr>\n",
              "  </tbody>\n",
              "</table>\n",
              "</div>"
            ],
            "text/plain": [
              "          Survived    Pclass       Sex  ...     Parch      Fare  Embarked\n",
              "Survived  1.000000 -0.335549 -0.541585  ...  0.083151  0.255290 -0.169718\n",
              "Pclass   -0.335549  1.000000  0.127741  ...  0.016824 -0.548193  0.164681\n",
              "Sex      -0.541585  0.127741  1.000000  ... -0.247508 -0.179958  0.110320\n",
              "Age      -0.048141 -0.416454  0.082450  ... -0.167897  0.125621 -0.010438\n",
              "SibSp    -0.034040  0.081656 -0.116348  ...  0.414542  0.160887  0.068900\n",
              "Parch     0.083151  0.016824 -0.247508  ...  1.000000  0.217532  0.040449\n",
              "Fare      0.255290 -0.548193 -0.179958  ...  0.217532  1.000000 -0.226311\n",
              "Embarked -0.169718  0.164681  0.110320  ...  0.040449 -0.226311  1.000000\n",
              "\n",
              "[8 rows x 8 columns]"
            ]
          },
          "metadata": {
            "tags": []
          },
          "execution_count": 30
        }
      ]
    },
    {
      "cell_type": "code",
      "metadata": {
        "id": "yugKEhJt-W0c",
        "outputId": "11c7d233-1191-44c1-96f6-d15fa08ea8a6",
        "colab": {
          "base_uri": "https://localhost:8080/",
          "height": 613
        }
      },
      "source": [
        "plt.figure(figsize=(15, 10))  \n",
        "sns.heatmap(correlation, annot = True)"
      ],
      "execution_count": null,
      "outputs": [
        {
          "output_type": "execute_result",
          "data": {
            "text/plain": [
              "<matplotlib.axes._subplots.AxesSubplot at 0x7fc9a48d2828>"
            ]
          },
          "metadata": {
            "tags": []
          },
          "execution_count": 33
        },
        {
          "output_type": "display_data",
          "data": {
            "image/png": "[encoded data removed]",
            "text/plain": [
              "<Figure size 1080x720 with 2 Axes>"
            ]
          },
          "metadata": {
            "tags": [],
            "needs_background": "light"
          }
        }
      ]
    },
    {
      "cell_type": "code",
      "metadata": {
        "id": "-6gSl0NipVMo",
        "outputId": "d03832ef-ccf2-4dfd-9d3c-76d77528dd2c",
        "colab": {
          "base_uri": "https://localhost:8080/",
          "height": 610
        }
      },
      "source": [
        "#creating the vif chart.\n",
        "vif = pd.DataFrame(np.linalg.inv(correlation.values), index = correlation.index, columns = correlation.columns)\n",
        "\n",
        "# using a heatmap to display the results\n",
        "plt.figure(figsize = (15, 10))\n",
        "sns.heatmap(vif, annot = True)"
      ],
      "execution_count": null,
      "outputs": [
        {
          "output_type": "execute_result",
          "data": {
            "text/plain": [
              "<matplotlib.axes._subplots.AxesSubplot at 0x7fc9980987f0>"
            ]
          },
          "metadata": {
            "tags": []
          },
          "execution_count": 205
        },
        {
          "output_type": "display_data",
          "data": {
            "image/png": "[encoded data removed]",
            "text/plain": [
              "<Figure size 1080x720 with 2 Axes>"
            ]
          },
          "metadata": {
            "tags": [],
            "needs_background": "light"
          }
        }
      ]
    },
    {
      "cell_type": "code",
      "metadata": {
        "id": "0zg3qCW6SXqJ",
        "outputId": "c4ef6de8-406f-4f24-8c2d-6ed87aac2394",
        "colab": {
          "base_uri": "https://localhost:8080/",
          "height": 1000
        }
      },
      "source": [
        "sns.pairplot(titanic)\n",
        "plt.show()"
      ],
      "execution_count": null,
      "outputs": [
        {
          "output_type": "display_data",
          "data": {
            "image/png": "[encoded data removed]",
            "text/plain": [
              "<Figure size 1440x1440 with 72 Axes>"
            ]
          },
          "metadata": {
            "tags": [],
            "needs_background": "light"
          }
        }
      ]
    },
    {
      "cell_type": "markdown",
      "metadata": {
        "id": "lI3w1zmsUblo"
      },
      "source": [
        "# **kNN Modelling**"
      ]
    },
    {
      "cell_type": "markdown",
      "metadata": {
        "id": "MwA5-TsLUfSS"
      },
      "source": [
        "## **Baseline Model**"
      ]
    },
    {
      "cell_type": "code",
      "metadata": {
        "id": "oPc001TNS1Eg"
      },
      "source": [
        "#describing the independent and dependent variables\n",
        "y = titanic['Survived'].values\n",
        "\n",
        "test_features = titanic.columns.to_list()\n",
        "test_features.remove('Survived')\n",
        "\n",
        "x = titanic[test_features].values\n",
        "\n",
        "#splitting the dataset\n",
        "x_train, x_test, y_train, y_test = train_test_split(x, y, test_size=0.2, random_state=0)"
      ],
      "execution_count": 27,
      "outputs": []
    },
    {
      "cell_type": "code",
      "metadata": {
        "id": "d2gcoQ-PVWTY",
        "outputId": "c13abb15-d2a7-476c-d256-924f0b6b952a",
        "colab": {
          "base_uri": "https://localhost:8080/",
          "height": 212
        }
      },
      "source": [
        "#creating the model and fitting it.\n",
        "knn = KNeighborsClassifier(n_neighbors=5)\n",
        "knn.fit(x_train, y_train)\n",
        "\n",
        "#predicting using the model.\n",
        "y_pred = knn.predict(x_test)\n",
        "\n",
        "#printing out the metrics for the perfomance of the model.\n",
        "print(confusion_matrix(y_test, y_pred))\n",
        "print(classification_report(y_test, y_pred))"
      ],
      "execution_count": 28,
      "outputs": [
        {
          "output_type": "stream",
          "text": [
            "[[81 24]\n",
            " [28 45]]\n",
            "              precision    recall  f1-score   support\n",
            "\n",
            "           0       0.74      0.77      0.76       105\n",
            "           1       0.65      0.62      0.63        73\n",
            "\n",
            "    accuracy                           0.71       178\n",
            "   macro avg       0.70      0.69      0.70       178\n",
            "weighted avg       0.71      0.71      0.71       178\n",
            "\n"
          ],
          "name": "stdout"
        }
      ]
    },
    {
      "cell_type": "code",
      "metadata": {
        "id": "uT7ykWlkWAaO",
        "outputId": "27ce6507-52c4-42da-eeff-aa87cc91c939",
        "colab": {
          "base_uri": "https://localhost:8080/",
          "height": 34
        }
      },
      "source": [
        "accuracy_score(y_test, y_pred)"
      ],
      "execution_count": 29,
      "outputs": [
        {
          "output_type": "execute_result",
          "data": {
            "text/plain": [
              "0.7078651685393258"
            ]
          },
          "metadata": {
            "tags": []
          },
          "execution_count": 29
        }
      ]
    },
    {
      "cell_type": "markdown",
      "metadata": {
        "id": "zG4_ltWTTjiF"
      },
      "source": [
        "We have an accuracy score of 70.078%. This is not great. We will go on to perform several techniques for the betterment of the model."
      ]
    },
    {
      "cell_type": "markdown",
      "metadata": {
        "id": "FzIkGxY5WXtL"
      },
      "source": [
        "## **Improving The Model**"
      ]
    },
    {
      "cell_type": "code",
      "metadata": {
        "id": "ycB89vkpWChZ"
      },
      "source": [
        "#describing the independent and dependent variables\n",
        "y1 = titanic['Survived'].values\n",
        "\n",
        "test_features = titanic.columns.to_list()\n",
        "test_features.remove('Survived')\n",
        "\n",
        "x1 = titanic[test_features].values\n",
        "\n",
        "#splitting the dataset.\n",
        "x1_train, x1_test, y1_train, y1_test = train_test_split(x1, y1, test_size=0.2, random_state=0)"
      ],
      "execution_count": 37,
      "outputs": []
    },
    {
      "cell_type": "markdown",
      "metadata": {
        "id": "eKirMnzxiEOe"
      },
      "source": [
        "**Feature Selection**"
      ]
    },
    {
      "cell_type": "code",
      "metadata": {
        "id": "qI6fqhluiIKP",
        "outputId": "963dc41f-aca0-4075-b507-ae3598fc271e",
        "colab": {
          "base_uri": "https://localhost:8080/",
          "height": 34
        }
      },
      "source": [
        "#selecting 5 best features for use.\n",
        "titanic_new = SelectKBest(chi2, k=5).fit_transform(x1, y1)\n",
        "titanic_new.shape"
      ],
      "execution_count": 38,
      "outputs": [
        {
          "output_type": "execute_result",
          "data": {
            "text/plain": [
              "(889, 5)"
            ]
          },
          "metadata": {
            "tags": []
          },
          "execution_count": 38
        }
      ]
    },
    {
      "cell_type": "code",
      "metadata": {
        "id": "u4z5LZzjiRaO",
        "outputId": "4986aab6-f596-4e77-b67b-e27cb091ca40",
        "colab": {
          "base_uri": "https://localhost:8080/",
          "height": 322
        }
      },
      "source": [
        "print(titanic_new)\n",
        "titanic.head()"
      ],
      "execution_count": 39,
      "outputs": [
        {
          "output_type": "stream",
          "text": [
            "[[ 3.      1.     22.      7.25    2.    ]\n",
            " [ 1.      0.     38.     71.2833  0.    ]\n",
            " [ 3.      0.     26.      7.925   2.    ]\n",
            " ...\n",
            " [ 3.      0.     23.     23.45    2.    ]\n",
            " [ 1.      1.     26.     30.      0.    ]\n",
            " [ 3.      1.     32.      7.75    1.    ]]\n"
          ],
          "name": "stdout"
        },
        {
          "output_type": "execute_result",
          "data": {
            "text/html": [
              "<div>\n",
              "<style scoped>\n",
              "    .dataframe tbody tr th:only-of-type {\n",
              "        vertical-align: middle;\n",
              "    }\n",
              "\n",
              "    .dataframe tbody tr th {\n",
              "        vertical-align: top;\n",
              "    }\n",
              "\n",
              "    .dataframe thead th {\n",
              "        text-align: right;\n",
              "    }\n",
              "</style>\n",
              "<table border=\"1\" class=\"dataframe\">\n",
              "  <thead>\n",
              "    <tr style=\"text-align: right;\">\n",
              "      <th></th>\n",
              "      <th>Survived</th>\n",
              "      <th>Pclass</th>\n",
              "      <th>Sex</th>\n",
              "      <th>Age</th>\n",
              "      <th>SibSp</th>\n",
              "      <th>Parch</th>\n",
              "      <th>Fare</th>\n",
              "      <th>Embarked</th>\n",
              "    </tr>\n",
              "  </thead>\n",
              "  <tbody>\n",
              "    <tr>\n",
              "      <th>0</th>\n",
              "      <td>0</td>\n",
              "      <td>3</td>\n",
              "      <td>1</td>\n",
              "      <td>22.0</td>\n",
              "      <td>1</td>\n",
              "      <td>0</td>\n",
              "      <td>7.2500</td>\n",
              "      <td>2</td>\n",
              "    </tr>\n",
              "    <tr>\n",
              "      <th>1</th>\n",
              "      <td>1</td>\n",
              "      <td>1</td>\n",
              "      <td>0</td>\n",
              "      <td>38.0</td>\n",
              "      <td>1</td>\n",
              "      <td>0</td>\n",
              "      <td>71.2833</td>\n",
              "      <td>0</td>\n",
              "    </tr>\n",
              "    <tr>\n",
              "      <th>2</th>\n",
              "      <td>1</td>\n",
              "      <td>3</td>\n",
              "      <td>0</td>\n",
              "      <td>26.0</td>\n",
              "      <td>0</td>\n",
              "      <td>0</td>\n",
              "      <td>7.9250</td>\n",
              "      <td>2</td>\n",
              "    </tr>\n",
              "    <tr>\n",
              "      <th>3</th>\n",
              "      <td>1</td>\n",
              "      <td>1</td>\n",
              "      <td>0</td>\n",
              "      <td>35.0</td>\n",
              "      <td>1</td>\n",
              "      <td>0</td>\n",
              "      <td>53.1000</td>\n",
              "      <td>2</td>\n",
              "    </tr>\n",
              "    <tr>\n",
              "      <th>4</th>\n",
              "      <td>0</td>\n",
              "      <td>3</td>\n",
              "      <td>1</td>\n",
              "      <td>35.0</td>\n",
              "      <td>0</td>\n",
              "      <td>0</td>\n",
              "      <td>8.0500</td>\n",
              "      <td>2</td>\n",
              "    </tr>\n",
              "  </tbody>\n",
              "</table>\n",
              "</div>"
            ],
            "text/plain": [
              "   Survived  Pclass  Sex   Age  SibSp  Parch     Fare  Embarked\n",
              "0         0       3    1  22.0      1      0   7.2500         2\n",
              "1         1       1    0  38.0      1      0  71.2833         0\n",
              "2         1       3    0  26.0      0      0   7.9250         2\n",
              "3         1       1    0  35.0      1      0  53.1000         2\n",
              "4         0       3    1  35.0      0      0   8.0500         2"
            ]
          },
          "metadata": {
            "tags": []
          },
          "execution_count": 39
        }
      ]
    },
    {
      "cell_type": "markdown",
      "metadata": {
        "id": "26fUQdpDUCOt"
      },
      "source": [
        "We can see that our best five features are Pclass, Sex, Age, Fare, and embarked. We will choose these five and see how the perfomance goes."
      ]
    },
    {
      "cell_type": "code",
      "metadata": {
        "id": "b8_EDiVuiviu"
      },
      "source": [
        "#describing the independent and dependent variables\n",
        "y2 = titanic['Survived'].values\n",
        "\n",
        "new_test_features1 = titanic.columns.to_list()\n",
        "new_test_features1.remove('Survived')\n",
        "new_test_features1.remove('Parch')\n",
        "new_test_features1.remove('SibSp')\n",
        "\n",
        "x2 = titanic[new_test_features1].values\n",
        "\n",
        "#splitting the dataset\n",
        "x2_train, x2_test, y2_train, y2_test = train_test_split(x2, y2, test_size=0.2, random_state=0)"
      ],
      "execution_count": 40,
      "outputs": []
    },
    {
      "cell_type": "code",
      "metadata": {
        "id": "ddEE67oljOIv",
        "outputId": "0d764b1f-fd51-4629-8841-9591c62c5291",
        "colab": {
          "base_uri": "https://localhost:8080/",
          "height": 212
        }
      },
      "source": [
        "#creating the model and fitting it.\n",
        "knn = KNeighborsClassifier(n_neighbors=5)\n",
        "knn.fit(x2_train, y2_train)\n",
        "\n",
        "#predicting using the model\n",
        "y2_pred = knn.predict(x2_test)\n",
        "\n",
        "#finding the metrics for the perfomance of the model\n",
        "print(confusion_matrix(y2_test, y2_pred))\n",
        "print(classification_report(y2_test, y2_pred))"
      ],
      "execution_count": 41,
      "outputs": [
        {
          "output_type": "stream",
          "text": [
            "[[80 25]\n",
            " [33 40]]\n",
            "              precision    recall  f1-score   support\n",
            "\n",
            "           0       0.71      0.76      0.73       105\n",
            "           1       0.62      0.55      0.58        73\n",
            "\n",
            "    accuracy                           0.67       178\n",
            "   macro avg       0.66      0.65      0.66       178\n",
            "weighted avg       0.67      0.67      0.67       178\n",
            "\n"
          ],
          "name": "stdout"
        }
      ]
    },
    {
      "cell_type": "code",
      "metadata": {
        "id": "mhxXOQEdjOIz",
        "outputId": "ce3822d0-92cd-4419-c55a-8ffacce7bc48",
        "colab": {
          "base_uri": "https://localhost:8080/",
          "height": 34
        }
      },
      "source": [
        "accuracy_score(y2_test, y2_pred)"
      ],
      "execution_count": 42,
      "outputs": [
        {
          "output_type": "execute_result",
          "data": {
            "text/plain": [
              "0.6741573033707865"
            ]
          },
          "metadata": {
            "tags": []
          },
          "execution_count": 42
        }
      ]
    },
    {
      "cell_type": "markdown",
      "metadata": {
        "id": "ixKtydJMU_rd"
      },
      "source": [
        "We have attained a score of 67.41% which is a drop."
      ]
    },
    {
      "cell_type": "markdown",
      "metadata": {
        "id": "lXYTvE0zVGFS"
      },
      "source": [
        "We are going to repeat the process choosing different feature sizes to see the perfomance."
      ]
    },
    {
      "cell_type": "code",
      "metadata": {
        "id": "lEUw-OJkkU1H",
        "outputId": "c32b64d3-9de1-40b2-a1c8-636cf0375fb1",
        "colab": {
          "base_uri": "https://localhost:8080/",
          "height": 34
        }
      },
      "source": [
        "#choosing 4 features\n",
        "titanic_new1 = SelectKBest(chi2, k=4).fit_transform(x1, y1)\n",
        "titanic_new1.shape"
      ],
      "execution_count": 43,
      "outputs": [
        {
          "output_type": "execute_result",
          "data": {
            "text/plain": [
              "(889, 4)"
            ]
          },
          "metadata": {
            "tags": []
          },
          "execution_count": 43
        }
      ]
    },
    {
      "cell_type": "code",
      "metadata": {
        "id": "QaJOYffUkU1N",
        "outputId": "2f515b97-fcba-48ba-fb18-3d9dfd2a52db",
        "colab": {
          "base_uri": "https://localhost:8080/",
          "height": 322
        }
      },
      "source": [
        "print(titanic_new1)\n",
        "titanic.head()"
      ],
      "execution_count": 44,
      "outputs": [
        {
          "output_type": "stream",
          "text": [
            "[[ 3.      1.     22.      7.25  ]\n",
            " [ 1.      0.     38.     71.2833]\n",
            " [ 3.      0.     26.      7.925 ]\n",
            " ...\n",
            " [ 3.      0.     23.     23.45  ]\n",
            " [ 1.      1.     26.     30.    ]\n",
            " [ 3.      1.     32.      7.75  ]]\n"
          ],
          "name": "stdout"
        },
        {
          "output_type": "execute_result",
          "data": {
            "text/html": [
              "<div>\n",
              "<style scoped>\n",
              "    .dataframe tbody tr th:only-of-type {\n",
              "        vertical-align: middle;\n",
              "    }\n",
              "\n",
              "    .dataframe tbody tr th {\n",
              "        vertical-align: top;\n",
              "    }\n",
              "\n",
              "    .dataframe thead th {\n",
              "        text-align: right;\n",
              "    }\n",
              "</style>\n",
              "<table border=\"1\" class=\"dataframe\">\n",
              "  <thead>\n",
              "    <tr style=\"text-align: right;\">\n",
              "      <th></th>\n",
              "      <th>Survived</th>\n",
              "      <th>Pclass</th>\n",
              "      <th>Sex</th>\n",
              "      <th>Age</th>\n",
              "      <th>SibSp</th>\n",
              "      <th>Parch</th>\n",
              "      <th>Fare</th>\n",
              "      <th>Embarked</th>\n",
              "    </tr>\n",
              "  </thead>\n",
              "  <tbody>\n",
              "    <tr>\n",
              "      <th>0</th>\n",
              "      <td>0</td>\n",
              "      <td>3</td>\n",
              "      <td>1</td>\n",
              "      <td>22.0</td>\n",
              "      <td>1</td>\n",
              "      <td>0</td>\n",
              "      <td>7.2500</td>\n",
              "      <td>2</td>\n",
              "    </tr>\n",
              "    <tr>\n",
              "      <th>1</th>\n",
              "      <td>1</td>\n",
              "      <td>1</td>\n",
              "      <td>0</td>\n",
              "      <td>38.0</td>\n",
              "      <td>1</td>\n",
              "      <td>0</td>\n",
              "      <td>71.2833</td>\n",
              "      <td>0</td>\n",
              "    </tr>\n",
              "    <tr>\n",
              "      <th>2</th>\n",
              "      <td>1</td>\n",
              "      <td>3</td>\n",
              "      <td>0</td>\n",
              "      <td>26.0</td>\n",
              "      <td>0</td>\n",
              "      <td>0</td>\n",
              "      <td>7.9250</td>\n",
              "      <td>2</td>\n",
              "    </tr>\n",
              "    <tr>\n",
              "      <th>3</th>\n",
              "      <td>1</td>\n",
              "      <td>1</td>\n",
              "      <td>0</td>\n",
              "      <td>35.0</td>\n",
              "      <td>1</td>\n",
              "      <td>0</td>\n",
              "      <td>53.1000</td>\n",
              "      <td>2</td>\n",
              "    </tr>\n",
              "    <tr>\n",
              "      <th>4</th>\n",
              "      <td>0</td>\n",
              "      <td>3</td>\n",
              "      <td>1</td>\n",
              "      <td>35.0</td>\n",
              "      <td>0</td>\n",
              "      <td>0</td>\n",
              "      <td>8.0500</td>\n",
              "      <td>2</td>\n",
              "    </tr>\n",
              "  </tbody>\n",
              "</table>\n",
              "</div>"
            ],
            "text/plain": [
              "   Survived  Pclass  Sex   Age  SibSp  Parch     Fare  Embarked\n",
              "0         0       3    1  22.0      1      0   7.2500         2\n",
              "1         1       1    0  38.0      1      0  71.2833         0\n",
              "2         1       3    0  26.0      0      0   7.9250         2\n",
              "3         1       1    0  35.0      1      0  53.1000         2\n",
              "4         0       3    1  35.0      0      0   8.0500         2"
            ]
          },
          "metadata": {
            "tags": []
          },
          "execution_count": 44
        }
      ]
    },
    {
      "cell_type": "code",
      "metadata": {
        "id": "uQSRw2ZykU1R"
      },
      "source": [
        "#describing the independent and dependent variables.\n",
        "y3 = titanic['Survived'].values\n",
        "\n",
        "new_test_features2 = titanic.columns.to_list()\n",
        "new_test_features2.remove('Survived')\n",
        "new_test_features2.remove('Parch')\n",
        "new_test_features2.remove('SibSp')\n",
        "new_test_features2.remove('Embarked')\n",
        "\n",
        "x3 = titanic[new_test_features2].values\n",
        "\n",
        "#splitting the dataset.\n",
        "x3_train, x3_test, y3_train, y3_test = train_test_split(x3, y3, test_size=0.2, random_state=0)"
      ],
      "execution_count": 45,
      "outputs": []
    },
    {
      "cell_type": "code",
      "metadata": {
        "id": "UCp-YkIIkU1c",
        "outputId": "12b73ff0-2c33-4f6a-f510-fce0c7165276",
        "colab": {
          "base_uri": "https://localhost:8080/",
          "height": 212
        }
      },
      "source": [
        "#creating the model and fitting it.\n",
        "knn = KNeighborsClassifier(n_neighbors=5)\n",
        "knn.fit(x3_train, y3_train)\n",
        "\n",
        "#predicting using the model\n",
        "y3_pred = knn.predict(x3_test)\n",
        "\n",
        "#preinting out the metrics for perfomance.\n",
        "print(confusion_matrix(y3_test, y3_pred))\n",
        "print(classification_report(y3_test, y3_pred))"
      ],
      "execution_count": 46,
      "outputs": [
        {
          "output_type": "stream",
          "text": [
            "[[81 24]\n",
            " [32 41]]\n",
            "              precision    recall  f1-score   support\n",
            "\n",
            "           0       0.72      0.77      0.74       105\n",
            "           1       0.63      0.56      0.59        73\n",
            "\n",
            "    accuracy                           0.69       178\n",
            "   macro avg       0.67      0.67      0.67       178\n",
            "weighted avg       0.68      0.69      0.68       178\n",
            "\n"
          ],
          "name": "stdout"
        }
      ]
    },
    {
      "cell_type": "code",
      "metadata": {
        "id": "pxraMBAIkU1h",
        "outputId": "5160d404-c267-40be-ca53-852e0ca2a660",
        "colab": {
          "base_uri": "https://localhost:8080/",
          "height": 34
        }
      },
      "source": [
        "accuracy_score(y3_test, y3_pred)"
      ],
      "execution_count": 47,
      "outputs": [
        {
          "output_type": "execute_result",
          "data": {
            "text/plain": [
              "0.6853932584269663"
            ]
          },
          "metadata": {
            "tags": []
          },
          "execution_count": 47
        }
      ]
    },
    {
      "cell_type": "markdown",
      "metadata": {
        "id": "xEXCa3k0Voy0"
      },
      "source": [
        "The accuracy has improved to 68.54%"
      ]
    },
    {
      "cell_type": "code",
      "metadata": {
        "id": "-LC5DxSukSsb",
        "outputId": "4e3d7d24-5e7a-4684-b3aa-e2d81f566570",
        "colab": {
          "base_uri": "https://localhost:8080/",
          "height": 34
        }
      },
      "source": [
        "#choosing 3 best features\n",
        "titanic_new2 = SelectKBest(chi2, k=3).fit_transform(x1, y1)\n",
        "titanic_new2.shape"
      ],
      "execution_count": 48,
      "outputs": [
        {
          "output_type": "execute_result",
          "data": {
            "text/plain": [
              "(889, 3)"
            ]
          },
          "metadata": {
            "tags": []
          },
          "execution_count": 48
        }
      ]
    },
    {
      "cell_type": "code",
      "metadata": {
        "id": "be-8JdE-kSsl",
        "outputId": "0363f27c-3b9b-4463-a037-77f49e80ee26",
        "colab": {
          "base_uri": "https://localhost:8080/",
          "height": 322
        }
      },
      "source": [
        "print(titanic_new2)\n",
        "titanic.head()"
      ],
      "execution_count": 49,
      "outputs": [
        {
          "output_type": "stream",
          "text": [
            "[[ 3.      1.      7.25  ]\n",
            " [ 1.      0.     71.2833]\n",
            " [ 3.      0.      7.925 ]\n",
            " ...\n",
            " [ 3.      0.     23.45  ]\n",
            " [ 1.      1.     30.    ]\n",
            " [ 3.      1.      7.75  ]]\n"
          ],
          "name": "stdout"
        },
        {
          "output_type": "execute_result",
          "data": {
            "text/html": [
              "<div>\n",
              "<style scoped>\n",
              "    .dataframe tbody tr th:only-of-type {\n",
              "        vertical-align: middle;\n",
              "    }\n",
              "\n",
              "    .dataframe tbody tr th {\n",
              "        vertical-align: top;\n",
              "    }\n",
              "\n",
              "    .dataframe thead th {\n",
              "        text-align: right;\n",
              "    }\n",
              "</style>\n",
              "<table border=\"1\" class=\"dataframe\">\n",
              "  <thead>\n",
              "    <tr style=\"text-align: right;\">\n",
              "      <th></th>\n",
              "      <th>Survived</th>\n",
              "      <th>Pclass</th>\n",
              "      <th>Sex</th>\n",
              "      <th>Age</th>\n",
              "      <th>SibSp</th>\n",
              "      <th>Parch</th>\n",
              "      <th>Fare</th>\n",
              "      <th>Embarked</th>\n",
              "    </tr>\n",
              "  </thead>\n",
              "  <tbody>\n",
              "    <tr>\n",
              "      <th>0</th>\n",
              "      <td>0</td>\n",
              "      <td>3</td>\n",
              "      <td>1</td>\n",
              "      <td>22.0</td>\n",
              "      <td>1</td>\n",
              "      <td>0</td>\n",
              "      <td>7.2500</td>\n",
              "      <td>2</td>\n",
              "    </tr>\n",
              "    <tr>\n",
              "      <th>1</th>\n",
              "      <td>1</td>\n",
              "      <td>1</td>\n",
              "      <td>0</td>\n",
              "      <td>38.0</td>\n",
              "      <td>1</td>\n",
              "      <td>0</td>\n",
              "      <td>71.2833</td>\n",
              "      <td>0</td>\n",
              "    </tr>\n",
              "    <tr>\n",
              "      <th>2</th>\n",
              "      <td>1</td>\n",
              "      <td>3</td>\n",
              "      <td>0</td>\n",
              "      <td>26.0</td>\n",
              "      <td>0</td>\n",
              "      <td>0</td>\n",
              "      <td>7.9250</td>\n",
              "      <td>2</td>\n",
              "    </tr>\n",
              "    <tr>\n",
              "      <th>3</th>\n",
              "      <td>1</td>\n",
              "      <td>1</td>\n",
              "      <td>0</td>\n",
              "      <td>35.0</td>\n",
              "      <td>1</td>\n",
              "      <td>0</td>\n",
              "      <td>53.1000</td>\n",
              "      <td>2</td>\n",
              "    </tr>\n",
              "    <tr>\n",
              "      <th>4</th>\n",
              "      <td>0</td>\n",
              "      <td>3</td>\n",
              "      <td>1</td>\n",
              "      <td>35.0</td>\n",
              "      <td>0</td>\n",
              "      <td>0</td>\n",
              "      <td>8.0500</td>\n",
              "      <td>2</td>\n",
              "    </tr>\n",
              "  </tbody>\n",
              "</table>\n",
              "</div>"
            ],
            "text/plain": [
              "   Survived  Pclass  Sex   Age  SibSp  Parch     Fare  Embarked\n",
              "0         0       3    1  22.0      1      0   7.2500         2\n",
              "1         1       1    0  38.0      1      0  71.2833         0\n",
              "2         1       3    0  26.0      0      0   7.9250         2\n",
              "3         1       1    0  35.0      1      0  53.1000         2\n",
              "4         0       3    1  35.0      0      0   8.0500         2"
            ]
          },
          "metadata": {
            "tags": []
          },
          "execution_count": 49
        }
      ]
    },
    {
      "cell_type": "code",
      "metadata": {
        "id": "_jusToyjkSsx"
      },
      "source": [
        "#describing the independent and dependent variables.\n",
        "y4 = titanic['Survived'].values\n",
        "\n",
        "new_test_features3 = titanic.columns.to_list()\n",
        "new_test_features3.remove('Survived')\n",
        "new_test_features3.remove('Parch')\n",
        "new_test_features3.remove('SibSp')\n",
        "new_test_features3.remove('Embarked')\n",
        "new_test_features3.remove('Age')\n",
        "\n",
        "x4 = titanic[new_test_features3].values\n",
        "\n",
        "#splitting the dataset\n",
        "x4_train, x4_test, y4_train, y4_test = train_test_split(x4, y4, test_size=0.2, random_state=0)"
      ],
      "execution_count": 50,
      "outputs": []
    },
    {
      "cell_type": "code",
      "metadata": {
        "id": "R-8fwkMFkSs9",
        "outputId": "f1e796c4-835f-4f96-cd67-ac2cacf3125d",
        "colab": {
          "base_uri": "https://localhost:8080/",
          "height": 212
        }
      },
      "source": [
        "#creating the model\n",
        "knn = KNeighborsClassifier(n_neighbors=5)\n",
        "knn.fit(x4_train, y4_train)\n",
        "\n",
        "#predicting using the model\n",
        "y4_pred = knn.predict(x4_test)\n",
        "\n",
        "#printing out the metrics for perfomance\n",
        "print(confusion_matrix(y4_test, y4_pred))\n",
        "print(classification_report(y4_test, y4_pred))"
      ],
      "execution_count": 51,
      "outputs": [
        {
          "output_type": "stream",
          "text": [
            "[[82 23]\n",
            " [24 49]]\n",
            "              precision    recall  f1-score   support\n",
            "\n",
            "           0       0.77      0.78      0.78       105\n",
            "           1       0.68      0.67      0.68        73\n",
            "\n",
            "    accuracy                           0.74       178\n",
            "   macro avg       0.73      0.73      0.73       178\n",
            "weighted avg       0.74      0.74      0.74       178\n",
            "\n"
          ],
          "name": "stdout"
        }
      ]
    },
    {
      "cell_type": "code",
      "metadata": {
        "id": "UoXOWDHXkStA",
        "outputId": "41b91b18-d930-4599-81e4-762ace4cd28a",
        "colab": {
          "base_uri": "https://localhost:8080/",
          "height": 34
        }
      },
      "source": [
        "accuracy_score(y4_test, y4_pred)"
      ],
      "execution_count": 52,
      "outputs": [
        {
          "output_type": "execute_result",
          "data": {
            "text/plain": [
              "0.7359550561797753"
            ]
          },
          "metadata": {
            "tags": []
          },
          "execution_count": 52
        }
      ]
    },
    {
      "cell_type": "markdown",
      "metadata": {
        "id": "w98M6aFjeM9S"
      },
      "source": [
        "**Scaling**"
      ]
    },
    {
      "cell_type": "code",
      "metadata": {
        "id": "2Ig4mb7lXD_i"
      },
      "source": [
        "#defining the scaler and fitting it\n",
        "std_scl = StandardScaler()\n",
        "std_scl.fit(x4_train)\n",
        "\n",
        "#transforming the variables\n",
        "x5_train = std_scl.transform(x4_train)\n",
        "x5_test = std_scl.transform(x4_test)"
      ],
      "execution_count": 57,
      "outputs": []
    },
    {
      "cell_type": "code",
      "metadata": {
        "id": "CqNkIOGOXbQL",
        "outputId": "450ec4eb-ea67-4843-bb6b-add246326d20",
        "colab": {
          "base_uri": "https://localhost:8080/",
          "height": 212
        }
      },
      "source": [
        "#creating the model and fitting it.\n",
        "knn = KNeighborsClassifier(n_neighbors=5)\n",
        "knn.fit(x5_train, y4_train)\n",
        "\n",
        "#predicting using the model\n",
        "y5_pred = knn.predict(x5_test)\n",
        "\n",
        "#printing out the metrics for model perfomance.\n",
        "print(confusion_matrix(y4_test, y5_pred))\n",
        "print(classification_report(y4_test, y5_pred))"
      ],
      "execution_count": 58,
      "outputs": [
        {
          "output_type": "stream",
          "text": [
            "[[86 19]\n",
            " [26 47]]\n",
            "              precision    recall  f1-score   support\n",
            "\n",
            "           0       0.77      0.82      0.79       105\n",
            "           1       0.71      0.64      0.68        73\n",
            "\n",
            "    accuracy                           0.75       178\n",
            "   macro avg       0.74      0.73      0.73       178\n",
            "weighted avg       0.74      0.75      0.74       178\n",
            "\n"
          ],
          "name": "stdout"
        }
      ]
    },
    {
      "cell_type": "code",
      "metadata": {
        "id": "Ux6NiPyAXjW5",
        "outputId": "5b615f89-fde4-448b-923b-a2e06f54675f",
        "colab": {
          "base_uri": "https://localhost:8080/",
          "height": 34
        }
      },
      "source": [
        "accuracy_score(y4_test, y5_pred)"
      ],
      "execution_count": 59,
      "outputs": [
        {
          "output_type": "execute_result",
          "data": {
            "text/plain": [
              "0.7471910112359551"
            ]
          },
          "metadata": {
            "tags": []
          },
          "execution_count": 59
        }
      ]
    },
    {
      "cell_type": "markdown",
      "metadata": {
        "id": "cLZne2NqeRLX"
      },
      "source": [
        "**Linear Discriminant Analysis (LDA)**"
      ]
    },
    {
      "cell_type": "code",
      "metadata": {
        "id": "zEqJacsMXkpE"
      },
      "source": [
        "#defining the lda, fitting and transforming the variables.\n",
        "lda = LDA(n_components=1)\n",
        "x6_train = lda.fit_transform(x4_train, y4_train)\n",
        "x6_test = lda.transform(x4_test)"
      ],
      "execution_count": 56,
      "outputs": []
    },
    {
      "cell_type": "code",
      "metadata": {
        "id": "_uLGKdyIeHrA",
        "outputId": "2fa0a445-a46d-4554-a363-9791fc788bcc",
        "colab": {
          "base_uri": "https://localhost:8080/",
          "height": 212
        }
      },
      "source": [
        "#creating the model\n",
        "knn = KNeighborsClassifier(n_neighbors=5)\n",
        "knn.fit(x6_train, y4_train)\n",
        "\n",
        "#predicting using the model\n",
        "y6_pred = knn.predict(x6_test)\n",
        "\n",
        "#printing out the metrics for perfomance\n",
        "print(confusion_matrix(y4_test, y6_pred))\n",
        "print(classification_report(y4_test, y6_pred))"
      ],
      "execution_count": 60,
      "outputs": [
        {
          "output_type": "stream",
          "text": [
            "[[87 18]\n",
            " [30 43]]\n",
            "              precision    recall  f1-score   support\n",
            "\n",
            "           0       0.74      0.83      0.78       105\n",
            "           1       0.70      0.59      0.64        73\n",
            "\n",
            "    accuracy                           0.73       178\n",
            "   macro avg       0.72      0.71      0.71       178\n",
            "weighted avg       0.73      0.73      0.73       178\n",
            "\n"
          ],
          "name": "stdout"
        }
      ]
    },
    {
      "cell_type": "code",
      "metadata": {
        "id": "_7QzadeIed0E",
        "outputId": "2b99b23a-97e2-4424-bf1f-08cc0dc998aa",
        "colab": {
          "base_uri": "https://localhost:8080/",
          "height": 34
        }
      },
      "source": [
        "accuracy_score(y4_test, y6_pred)"
      ],
      "execution_count": 61,
      "outputs": [
        {
          "output_type": "execute_result",
          "data": {
            "text/plain": [
              "0.7303370786516854"
            ]
          },
          "metadata": {
            "tags": []
          },
          "execution_count": 61
        }
      ]
    },
    {
      "cell_type": "markdown",
      "metadata": {
        "id": "9kwdUuJRenCM"
      },
      "source": [
        "**70-30 Split**"
      ]
    },
    {
      "cell_type": "code",
      "metadata": {
        "id": "9wEOQRzXel_c"
      },
      "source": [
        "#describing the independent and dependent variables.\n",
        "y7 = titanic['Survived'].values\n",
        "\n",
        "new_test_features = titanic.columns.to_list()\n",
        "new_test_features.remove('Survived')\n",
        "new_test_features.remove('Parch')\n",
        "new_test_features.remove('SibSp')\n",
        "new_test_features.remove('Embarked')\n",
        "new_test_features.remove('Age')\n",
        "\n",
        "x7 = titanic[new_test_features].values\n",
        "\n",
        "#splitting the dataset\n",
        "x7_train, x7_test, y7_train, y7_test = train_test_split(x7, y7, test_size=0.3, random_state=0)"
      ],
      "execution_count": 62,
      "outputs": []
    },
    {
      "cell_type": "code",
      "metadata": {
        "id": "DNpBEJu8eeT7"
      },
      "source": [
        "#scaling\n",
        "std_scl = StandardScaler()\n",
        "std_scl.fit(x7_train)\n",
        "\n",
        "x7_train = std_scl.transform(x7_train)\n",
        "x7_test = std_scl.transform(x7_test)"
      ],
      "execution_count": 63,
      "outputs": []
    },
    {
      "cell_type": "code",
      "metadata": {
        "id": "tOo_t01YfAgR"
      },
      "source": [
        "#lda analysis\n",
        "lda = LDA(n_components=1)\n",
        "x7_train = lda.fit_transform(x7_train, y7_train)\n",
        "x7_test = lda.transform(x7_test)"
      ],
      "execution_count": 64,
      "outputs": []
    },
    {
      "cell_type": "code",
      "metadata": {
        "id": "dHqQeouwfAgt",
        "outputId": "858ec987-8705-47ed-d02e-a6b33d867b70",
        "colab": {
          "base_uri": "https://localhost:8080/",
          "height": 212
        }
      },
      "source": [
        "#model creation, fitting and metrics analaysis\n",
        "knn = KNeighborsClassifier(n_neighbors=5)\n",
        "knn.fit(x7_train, y7_train)\n",
        "\n",
        "y7_pred = knn.predict(x7_test)\n",
        "\n",
        "print(confusion_matrix(y7_test, y7_pred))\n",
        "print(classification_report(y7_test, y7_pred))"
      ],
      "execution_count": 65,
      "outputs": [
        {
          "output_type": "stream",
          "text": [
            "[[129  28]\n",
            " [ 33  77]]\n",
            "              precision    recall  f1-score   support\n",
            "\n",
            "           0       0.80      0.82      0.81       157\n",
            "           1       0.73      0.70      0.72       110\n",
            "\n",
            "    accuracy                           0.77       267\n",
            "   macro avg       0.76      0.76      0.76       267\n",
            "weighted avg       0.77      0.77      0.77       267\n",
            "\n"
          ],
          "name": "stdout"
        }
      ]
    },
    {
      "cell_type": "code",
      "metadata": {
        "id": "OUSDTJXBfAg1",
        "outputId": "ff6bd96e-aabc-40fe-ab97-338368289e2e",
        "colab": {
          "base_uri": "https://localhost:8080/",
          "height": 34
        }
      },
      "source": [
        "accuracy_score(y7_test, y7_pred)"
      ],
      "execution_count": null,
      "outputs": [
        {
          "output_type": "execute_result",
          "data": {
            "text/plain": [
              "0.7715355805243446"
            ]
          },
          "metadata": {
            "tags": []
          },
          "execution_count": 153
        }
      ]
    },
    {
      "cell_type": "markdown",
      "metadata": {
        "id": "qOuM3Q3ifRGZ"
      },
      "source": [
        "**60-40 Split**"
      ]
    },
    {
      "cell_type": "code",
      "metadata": {
        "id": "rQZb9tDhfRGb"
      },
      "source": [
        "#describing the independent and dependent variables.\n",
        "y8 = titanic['Survived'].values\n",
        "\n",
        "new_test_features = titanic.columns.to_list()\n",
        "new_test_features.remove('Survived')\n",
        "new_test_features.remove('Parch')\n",
        "new_test_features.remove('SibSp')\n",
        "new_test_features.remove('Embarked')\n",
        "new_test_features.remove('Age')\n",
        "\n",
        "x8 = titanic[new_test_features].values\n",
        "\n",
        "#splitting the dataset\n",
        "x8_train, x8_test, y8_train, y8_test = train_test_split(x8, y8, test_size=0.4, random_state=0)"
      ],
      "execution_count": 66,
      "outputs": []
    },
    {
      "cell_type": "code",
      "metadata": {
        "id": "ZhCmrKSOfRGg"
      },
      "source": [
        "#scaling\n",
        "std_scl = StandardScaler()\n",
        "std_scl.fit(x8_train)\n",
        "\n",
        "x8_train = std_scl.transform(x8_train)\n",
        "x8_test = std_scl.transform(x8_test)"
      ],
      "execution_count": 67,
      "outputs": []
    },
    {
      "cell_type": "code",
      "metadata": {
        "id": "BgzYiMfufRGi"
      },
      "source": [
        "#lda analysis\n",
        "lda = LDA(n_components=1)\n",
        "x8_train = lda.fit_transform(x8_train, y8_train)\n",
        "x8_test = lda.transform(x8_test)"
      ],
      "execution_count": 68,
      "outputs": []
    },
    {
      "cell_type": "code",
      "metadata": {
        "id": "MJbKEvT6fRGl",
        "outputId": "438ecbb9-7bee-4c07-c2a0-8b8c053a9e88",
        "colab": {
          "base_uri": "https://localhost:8080/",
          "height": 212
        }
      },
      "source": [
        "#model creation, fitting, prediction and metrics analysis.\n",
        "knn = KNeighborsClassifier(n_neighbors=5)\n",
        "knn.fit(x8_train, y8_train)\n",
        "\n",
        "y8_pred = knn.predict(x8_test)\n",
        "\n",
        "print(confusion_matrix(y8_test, y8_pred))\n",
        "print(classification_report(y8_test, y8_pred))"
      ],
      "execution_count": 69,
      "outputs": [
        {
          "output_type": "stream",
          "text": [
            "[[188  28]\n",
            " [ 43  97]]\n",
            "              precision    recall  f1-score   support\n",
            "\n",
            "           0       0.81      0.87      0.84       216\n",
            "           1       0.78      0.69      0.73       140\n",
            "\n",
            "    accuracy                           0.80       356\n",
            "   macro avg       0.79      0.78      0.79       356\n",
            "weighted avg       0.80      0.80      0.80       356\n",
            "\n"
          ],
          "name": "stdout"
        }
      ]
    },
    {
      "cell_type": "code",
      "metadata": {
        "id": "FrJ_9pDxfRGp",
        "outputId": "16bb2db8-cb5f-4b74-b442-fd4df4f430e0",
        "colab": {
          "base_uri": "https://localhost:8080/",
          "height": 34
        }
      },
      "source": [
        "accuracy_score(y8_test, y8_pred)"
      ],
      "execution_count": 70,
      "outputs": [
        {
          "output_type": "execute_result",
          "data": {
            "text/plain": [
              "0.800561797752809"
            ]
          },
          "metadata": {
            "tags": []
          },
          "execution_count": 70
        }
      ]
    },
    {
      "cell_type": "markdown",
      "metadata": {
        "id": "3i_6P-XaBK1_"
      },
      "source": [
        "# **Conclusion**"
      ]
    },
    {
      "cell_type": "markdown",
      "metadata": {
        "id": "2NBIT1wpBZL-"
      },
      "source": [
        "We have attained the following accuracy scores for the models we have created.\n",
        "\n",
        "* Baseline Model - 0.7078651685393258\n",
        "* 5-Features Model - 0.6741573033707865\n",
        "* 4-Features Model - 0.6853932584269663\n",
        "* 3-Features Model - 0.7359550561797753\n",
        "* Scaled Model - 0.7471910112359551\n",
        "* LDA Model - 0.7303370786516854\n",
        "\n",
        "\n",
        "* 70-20 Split Model - 0.7715355805243446\n",
        "* 60-40 Split Model - 0.800561797752809"
      ]
    },
    {
      "cell_type": "markdown",
      "metadata": {
        "id": "71fsWryTDLD2"
      },
      "source": [
        "We can see a gradual improvement as we were deploying the various techniques. In the end, our 60-40 split perfomed best as it had all the techniques tried on it, (3-best features, scaling and LDA analysis). This would be the model to go for as it is the most optimized and the one with the highest accuracy score.\n",
        "\n",
        "Apart from that, its recall and precision scores are also good"
      ]
    },
    {
      "cell_type": "markdown",
      "metadata": {
        "id": "6uxdAwS_GS65"
      },
      "source": [
        "# **Follow up questions**"
      ]
    },
    {
      "cell_type": "markdown",
      "metadata": {
        "id": "5SGa5FaoGpDj"
      },
      "source": [
        "## **Did we have the right data?**"
      ]
    },
    {
      "cell_type": "markdown",
      "metadata": {
        "id": "FCuDzvRgGVvo"
      },
      "source": [
        "Yes. The data is great for our model."
      ]
    },
    {
      "cell_type": "markdown",
      "metadata": {
        "id": "4K4JzIWgGtiW"
      },
      "source": [
        "## **Do we need other data to answer our question?**"
      ]
    },
    {
      "cell_type": "markdown",
      "metadata": {
        "id": "taueZcehGc-1"
      },
      "source": [
        "We don't need aadditional data. The data we have is enough for our analysis and our project."
      ]
    },
    {
      "cell_type": "markdown",
      "metadata": {
        "id": "BHgUZw93Gy55"
      },
      "source": [
        "## **Did we have the right question?**"
      ]
    },
    {
      "cell_type": "markdown",
      "metadata": {
        "id": "oPJoN8E0GfpH"
      },
      "source": [
        "Yes, the question was relevant to our project."
      ]
    }
  ]
}